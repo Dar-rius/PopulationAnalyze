{
 "cells": [
  {
   "cell_type": "code",
   "execution_count": 146,
   "metadata": {},
   "outputs": [],
   "source": [
    "import pandas as pd\n",
    "import matplotlib.pyplot as plt\n",
    "from sklearn.preprocessing import OrdinalEncoder, StandardScaler\n",
    "from sklearn.pipeline import make_pipeline\n",
    "from sklearn.model_selection import train_test_split\n",
    "from sklearn.linear_model import SGDRegressor\n",
    "import numpy as np"
   ]
  },
  {
   "cell_type": "code",
   "execution_count": 147,
   "metadata": {},
   "outputs": [
    {
     "name": "stdout",
     "output_type": "stream",
     "text": [
      "(66893, 70)\n"
     ]
    },
    {
     "data": {
      "text/html": [
       "<div>\n",
       "<style scoped>\n",
       "    .dataframe tbody tr th:only-of-type {\n",
       "        vertical-align: middle;\n",
       "    }\n",
       "\n",
       "    .dataframe tbody tr th {\n",
       "        vertical-align: top;\n",
       "    }\n",
       "\n",
       "    .dataframe thead th {\n",
       "        text-align: right;\n",
       "    }\n",
       "</style>\n",
       "<table border=\"1\" class=\"dataframe\">\n",
       "  <thead>\n",
       "    <tr style=\"text-align: right;\">\n",
       "      <th></th>\n",
       "      <th>Id</th>\n",
       "      <th>LocID</th>\n",
       "      <th>Location</th>\n",
       "      <th>PopMale_0_4</th>\n",
       "      <th>PopFemale_0_4</th>\n",
       "      <th>PopTotal_0_4</th>\n",
       "      <th>PopMale_5_9</th>\n",
       "      <th>PopFemale_5_9</th>\n",
       "      <th>PopTotal_5_9</th>\n",
       "      <th>PopMale_10_14</th>\n",
       "      <th>...</th>\n",
       "      <th>PopMale_95_99</th>\n",
       "      <th>PopFemale_95_99</th>\n",
       "      <th>PopTotal_95_99</th>\n",
       "      <th>PopMale_100Plus</th>\n",
       "      <th>PopFemale_100Plus</th>\n",
       "      <th>PopTotal_100Plus</th>\n",
       "      <th>PopMale</th>\n",
       "      <th>PopFemale</th>\n",
       "      <th>PopTotal</th>\n",
       "      <th>YearDataCompleted</th>\n",
       "    </tr>\n",
       "    <tr>\n",
       "      <th>Time</th>\n",
       "      <th></th>\n",
       "      <th></th>\n",
       "      <th></th>\n",
       "      <th></th>\n",
       "      <th></th>\n",
       "      <th></th>\n",
       "      <th></th>\n",
       "      <th></th>\n",
       "      <th></th>\n",
       "      <th></th>\n",
       "      <th></th>\n",
       "      <th></th>\n",
       "      <th></th>\n",
       "      <th></th>\n",
       "      <th></th>\n",
       "      <th></th>\n",
       "      <th></th>\n",
       "      <th></th>\n",
       "      <th></th>\n",
       "      <th></th>\n",
       "      <th></th>\n",
       "    </tr>\n",
       "  </thead>\n",
       "  <tbody>\n",
       "    <tr>\n",
       "      <th>1950-01-01</th>\n",
       "      <td>1</td>\n",
       "      <td>4</td>\n",
       "      <td>Afghanistan</td>\n",
       "      <td>630.044</td>\n",
       "      <td>661.578</td>\n",
       "      <td>1291.622</td>\n",
       "      <td>516.206</td>\n",
       "      <td>487.335</td>\n",
       "      <td>1003.541</td>\n",
       "      <td>461.378</td>\n",
       "      <td>...</td>\n",
       "      <td>0.004</td>\n",
       "      <td>0.003</td>\n",
       "      <td>0.007</td>\n",
       "      <td>0.0</td>\n",
       "      <td>0.0</td>\n",
       "      <td>0.0</td>\n",
       "      <td>4099.243</td>\n",
       "      <td>3652.874</td>\n",
       "      <td>7752.117</td>\n",
       "      <td>1</td>\n",
       "    </tr>\n",
       "    <tr>\n",
       "      <th>1951-01-01</th>\n",
       "      <td>2</td>\n",
       "      <td>4</td>\n",
       "      <td>Afghanistan</td>\n",
       "      <td>641.199</td>\n",
       "      <td>673.293</td>\n",
       "      <td>1314.492</td>\n",
       "      <td>525.302</td>\n",
       "      <td>502.402</td>\n",
       "      <td>1027.704</td>\n",
       "      <td>465.611</td>\n",
       "      <td>...</td>\n",
       "      <td>0.007</td>\n",
       "      <td>0.005</td>\n",
       "      <td>0.012</td>\n",
       "      <td>0.0</td>\n",
       "      <td>0.0</td>\n",
       "      <td>0.0</td>\n",
       "      <td>4134.756</td>\n",
       "      <td>3705.395</td>\n",
       "      <td>7840.151</td>\n",
       "      <td>1</td>\n",
       "    </tr>\n",
       "    <tr>\n",
       "      <th>1952-01-01</th>\n",
       "      <td>3</td>\n",
       "      <td>4</td>\n",
       "      <td>Afghanistan</td>\n",
       "      <td>650.825</td>\n",
       "      <td>669.274</td>\n",
       "      <td>1320.099</td>\n",
       "      <td>533.097</td>\n",
       "      <td>521.672</td>\n",
       "      <td>1054.769</td>\n",
       "      <td>471.928</td>\n",
       "      <td>...</td>\n",
       "      <td>0.012</td>\n",
       "      <td>0.009</td>\n",
       "      <td>0.021</td>\n",
       "      <td>0.0</td>\n",
       "      <td>0.0</td>\n",
       "      <td>0.0</td>\n",
       "      <td>4174.450</td>\n",
       "      <td>3761.546</td>\n",
       "      <td>7935.996</td>\n",
       "      <td>1</td>\n",
       "    </tr>\n",
       "    <tr>\n",
       "      <th>1953-01-01</th>\n",
       "      <td>4</td>\n",
       "      <td>4</td>\n",
       "      <td>Afghanistan</td>\n",
       "      <td>659.896</td>\n",
       "      <td>663.606</td>\n",
       "      <td>1323.502</td>\n",
       "      <td>538.351</td>\n",
       "      <td>541.216</td>\n",
       "      <td>1079.567</td>\n",
       "      <td>480.448</td>\n",
       "      <td>...</td>\n",
       "      <td>0.015</td>\n",
       "      <td>0.013</td>\n",
       "      <td>0.028</td>\n",
       "      <td>0.0</td>\n",
       "      <td>0.0</td>\n",
       "      <td>0.0</td>\n",
       "      <td>4218.336</td>\n",
       "      <td>3821.348</td>\n",
       "      <td>8039.684</td>\n",
       "      <td>1</td>\n",
       "    </tr>\n",
       "    <tr>\n",
       "      <th>1954-01-01</th>\n",
       "      <td>5</td>\n",
       "      <td>4</td>\n",
       "      <td>Afghanistan</td>\n",
       "      <td>670.694</td>\n",
       "      <td>663.295</td>\n",
       "      <td>1333.989</td>\n",
       "      <td>540.820</td>\n",
       "      <td>557.196</td>\n",
       "      <td>1098.016</td>\n",
       "      <td>489.780</td>\n",
       "      <td>...</td>\n",
       "      <td>0.014</td>\n",
       "      <td>0.011</td>\n",
       "      <td>0.025</td>\n",
       "      <td>0.0</td>\n",
       "      <td>0.0</td>\n",
       "      <td>0.0</td>\n",
       "      <td>4266.484</td>\n",
       "      <td>3884.832</td>\n",
       "      <td>8151.316</td>\n",
       "      <td>1</td>\n",
       "    </tr>\n",
       "  </tbody>\n",
       "</table>\n",
       "<p>5 rows × 70 columns</p>\n",
       "</div>"
      ],
      "text/plain": [
       "            Id  LocID     Location  PopMale_0_4  PopFemale_0_4  PopTotal_0_4  \\\n",
       "Time                                                                           \n",
       "1950-01-01   1      4  Afghanistan      630.044        661.578      1291.622   \n",
       "1951-01-01   2      4  Afghanistan      641.199        673.293      1314.492   \n",
       "1952-01-01   3      4  Afghanistan      650.825        669.274      1320.099   \n",
       "1953-01-01   4      4  Afghanistan      659.896        663.606      1323.502   \n",
       "1954-01-01   5      4  Afghanistan      670.694        663.295      1333.989   \n",
       "\n",
       "            PopMale_5_9  PopFemale_5_9  PopTotal_5_9  PopMale_10_14  ...  \\\n",
       "Time                                                                 ...   \n",
       "1950-01-01      516.206        487.335      1003.541        461.378  ...   \n",
       "1951-01-01      525.302        502.402      1027.704        465.611  ...   \n",
       "1952-01-01      533.097        521.672      1054.769        471.928  ...   \n",
       "1953-01-01      538.351        541.216      1079.567        480.448  ...   \n",
       "1954-01-01      540.820        557.196      1098.016        489.780  ...   \n",
       "\n",
       "            PopMale_95_99  PopFemale_95_99  PopTotal_95_99  PopMale_100Plus  \\\n",
       "Time                                                                          \n",
       "1950-01-01          0.004            0.003           0.007              0.0   \n",
       "1951-01-01          0.007            0.005           0.012              0.0   \n",
       "1952-01-01          0.012            0.009           0.021              0.0   \n",
       "1953-01-01          0.015            0.013           0.028              0.0   \n",
       "1954-01-01          0.014            0.011           0.025              0.0   \n",
       "\n",
       "            PopFemale_100Plus  PopTotal_100Plus   PopMale  PopFemale  \\\n",
       "Time                                                                   \n",
       "1950-01-01                0.0               0.0  4099.243   3652.874   \n",
       "1951-01-01                0.0               0.0  4134.756   3705.395   \n",
       "1952-01-01                0.0               0.0  4174.450   3761.546   \n",
       "1953-01-01                0.0               0.0  4218.336   3821.348   \n",
       "1954-01-01                0.0               0.0  4266.484   3884.832   \n",
       "\n",
       "            PopTotal  YearDataCompleted  \n",
       "Time                                     \n",
       "1950-01-01  7752.117                  1  \n",
       "1951-01-01  7840.151                  1  \n",
       "1952-01-01  7935.996                  1  \n",
       "1953-01-01  8039.684                  1  \n",
       "1954-01-01  8151.316                  1  \n",
       "\n",
       "[5 rows x 70 columns]"
      ]
     },
     "execution_count": 147,
     "metadata": {},
     "output_type": "execute_result"
    }
   ],
   "source": [
    "df = pd.read_csv(\"Data/PopulationByAgeSex.csv\", index_col=\"Time\", parse_dates=True)\n",
    "print(df.shape)\n",
    "df.head()"
   ]
  },
  {
   "cell_type": "code",
   "execution_count": 148,
   "metadata": {},
   "outputs": [
    {
     "name": "stdout",
     "output_type": "stream",
     "text": [
      "[[ 7752.117]\n",
      " [ 7840.151]\n",
      " [ 7935.996]\n",
      " ...\n",
      " [30959.811]\n",
      " [30964.052]\n",
      " [30965.421]] \n",
      " (66893, 1)\n",
      "            Id  LocID  PopMale_0_4  PopFemale_0_4  PopTotal_0_4  PopMale_5_9  \\\n",
      "Time                                                                           \n",
      "1950-01-01   1      4      630.044        661.578      1291.622      516.206   \n",
      "1951-01-01   2      4      641.199        673.293      1314.492      525.302   \n",
      "1952-01-01   3      4      650.825        669.274      1320.099      533.097   \n",
      "1953-01-01   4      4      659.896        663.606      1323.502      538.351   \n",
      "1954-01-01   5      4      670.694        663.295      1333.989      540.820   \n",
      "\n",
      "            PopFemale_5_9  PopTotal_5_9  PopMale_10_14  PopFemale_10_14  ...  \\\n",
      "Time                                                                     ...   \n",
      "1950-01-01        487.335      1003.541        461.378          423.326  ...   \n",
      "1951-01-01        502.402      1027.704        465.611          427.618  ...   \n",
      "1952-01-01        521.672      1054.769        471.928          434.828  ...   \n",
      "1953-01-01        541.216      1079.567        480.448          443.818  ...   \n",
      "1954-01-01        557.196      1098.016        489.780          454.597  ...   \n",
      "\n",
      "            PopTotal_90_94  PopMale_95_99  PopFemale_95_99  PopTotal_95_99  \\\n",
      "Time                                                                         \n",
      "1950-01-01           0.139          0.004            0.003           0.007   \n",
      "1951-01-01           0.172          0.007            0.005           0.012   \n",
      "1952-01-01           0.231          0.012            0.009           0.021   \n",
      "1953-01-01           0.297          0.015            0.013           0.028   \n",
      "1954-01-01           0.315          0.014            0.011           0.025   \n",
      "\n",
      "            PopMale_100Plus  PopFemale_100Plus  PopTotal_100Plus   PopMale  \\\n",
      "Time                                                                         \n",
      "1950-01-01              0.0                0.0               0.0  4099.243   \n",
      "1951-01-01              0.0                0.0               0.0  4134.756   \n",
      "1952-01-01              0.0                0.0               0.0  4174.450   \n",
      "1953-01-01              0.0                0.0               0.0  4218.336   \n",
      "1954-01-01              0.0                0.0               0.0  4266.484   \n",
      "\n",
      "            PopFemale  YearDataCompleted  \n",
      "Time                                      \n",
      "1950-01-01   3652.874                  1  \n",
      "1951-01-01   3705.395                  1  \n",
      "1952-01-01   3761.546                  1  \n",
      "1953-01-01   3821.348                  1  \n",
      "1954-01-01   3884.832                  1  \n",
      "\n",
      "[5 rows x 68 columns] \n",
      " (66893, 68)\n"
     ]
    }
   ],
   "source": [
    "# select Target and Features\n",
    "#Targets\n",
    "y = df['PopTotal']\n",
    "y = y.values.reshape(-1, 1)\n",
    "print(f\"{y} \\n {y.shape}\")\n",
    "\n",
    "#Features\n",
    "x = df.drop(['PopTotal', 'Location'], axis =1)\n",
    "print(f\"{x.head()} \\n {x.shape}\")"
   ]
  },
  {
   "cell_type": "code",
   "execution_count": 149,
   "metadata": {},
   "outputs": [
    {
     "name": "stdout",
     "output_type": "stream",
     "text": [
      "[[0.0000e+00 0.0000e+00 2.0790e+04 ... 1.7997e+04 1.7173e+04 0.0000e+00]\n",
      " [1.0000e+00 0.0000e+00 2.0900e+04 ... 1.8085e+04 1.7276e+04 0.0000e+00]\n",
      " [2.0000e+00 0.0000e+00 2.1008e+04 ... 1.8179e+04 1.7372e+04 0.0000e+00]\n",
      " ...\n",
      " [6.6890e+04 1.6600e+02 2.3518e+04 ... 2.6797e+04 2.7079e+04 0.0000e+00]\n",
      " [6.6891e+04 1.6600e+02 2.3471e+04 ... 2.6795e+04 2.7080e+04 0.0000e+00]\n",
      " [6.6892e+04 1.6600e+02 2.3418e+04 ... 2.6791e+04 2.7083e+04 0.0000e+00]]\n"
     ]
    }
   ],
   "source": [
    "#preprocessing:\n",
    "#encoder features\n",
    "encoder_x = OrdinalEncoder()\n",
    "encoder_x = encoder_x.fit_transform(x)\n",
    "print(encoder_x)"
   ]
  },
  {
   "cell_type": "code",
   "execution_count": 150,
   "metadata": {},
   "outputs": [
    {
     "name": "stdout",
     "output_type": "stream",
     "text": [
      "[[17634.]\n",
      " [17705.]\n",
      " [17788.]\n",
      " ...\n",
      " [26980.]\n",
      " [26981.]\n",
      " [26982.]]\n"
     ]
    }
   ],
   "source": [
    "#encoder targets\n",
    "encoder_y = OrdinalEncoder()\n",
    "encoder_y= encoder_y.fit_transform(y)\n",
    "print(encoder_y)"
   ]
  },
  {
   "cell_type": "code",
   "execution_count": 151,
   "metadata": {},
   "outputs": [
    {
     "name": "stdout",
     "output_type": "stream",
     "text": [
      "pour le train: (53514, 68), (53514, 1)\n",
      "pour le test: (13379, 68), (13379, 1)\n"
     ]
    }
   ],
   "source": [
    "#create a train set and test set\n",
    "x_train, x_test, y_train, y_test = train_test_split(encoder_x, encoder_y, test_size=.2)\n",
    "print(f'pour le train: {x_train.shape}, {y_train.shape}')\n",
    "print(f'pour le test: {x_test.shape}, {y_test.shape}')"
   ]
  },
  {
   "cell_type": "code",
   "execution_count": 152,
   "metadata": {},
   "outputs": [
    {
     "name": "stderr",
     "output_type": "stream",
     "text": [
      "C:\\Users\\MOHAM\\AppData\\Local\\Packages\\PythonSoftwareFoundation.Python.3.9_qbz5n2kfra8p0\\LocalCache\\local-packages\\Python39\\site-packages\\sklearn\\utils\\validation.py:985: DataConversionWarning: A column-vector y was passed when a 1d array was expected. Please change the shape of y to (n_samples, ), for example using ravel().\n",
      "  y = column_or_1d(y, warn=True)\n",
      "C:\\Users\\MOHAM\\AppData\\Local\\Packages\\PythonSoftwareFoundation.Python.3.9_qbz5n2kfra8p0\\LocalCache\\local-packages\\Python39\\site-packages\\sklearn\\linear_model\\_stochastic_gradient.py:1509: ConvergenceWarning: Maximum number of iteration reached before convergence. Consider increasing max_iter to improve the fit.\n",
      "  warnings.warn(\n"
     ]
    },
    {
     "data": {
      "text/plain": [
       "Pipeline(steps=[('standardscaler', StandardScaler()),\n",
       "                ('sgdregressor', SGDRegressor())])"
      ]
     },
     "execution_count": 152,
     "metadata": {},
     "output_type": "execute_result"
    }
   ],
   "source": [
    "#modeling and normalisation\n",
    "model = make_pipeline(StandardScaler(), SGDRegressor())\n",
    "model.fit(x_train, y_train)"
   ]
  },
  {
   "cell_type": "code",
   "execution_count": 153,
   "metadata": {},
   "outputs": [
    {
     "data": {
      "text/plain": [
       "0.9999923797872574"
      ]
     },
     "execution_count": 153,
     "metadata": {},
     "output_type": "execute_result"
    }
   ],
   "source": [
    "#Evaluate models\n",
    "model.score(x_test, y_test)"
   ]
  },
  {
   "cell_type": "code",
   "execution_count": 156,
   "metadata": {},
   "outputs": [
    {
     "name": "stdout",
     "output_type": "stream",
     "text": [
      "prediction: [17672.64451256], targets: [[17634.]]\n"
     ]
    }
   ],
   "source": [
    "# voir la prediction du model\n",
    "predict = model.predict(encoder_x[0:1])\n",
    "print(f\"prediction: {predict}, targets: {encoder_y[0:1]}\")"
   ]
  }
 ],
 "metadata": {
  "interpreter": {
   "hash": "63fd5069d213b44bf678585dea6b12cceca9941eaf7f819626cde1f2670de90d"
  },
  "kernelspec": {
   "display_name": "Python 3.9.7 64-bit",
   "language": "python",
   "name": "python3"
  },
  "language_info": {
   "codemirror_mode": {
    "name": "ipython",
    "version": 3
   },
   "file_extension": ".py",
   "mimetype": "text/x-python",
   "name": "python",
   "nbconvert_exporter": "python",
   "pygments_lexer": "ipython3",
   "version": "3.9.9"
  },
  "orig_nbformat": 4
 },
 "nbformat": 4,
 "nbformat_minor": 2
}
